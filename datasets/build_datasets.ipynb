{
 "cells": [
  {
   "cell_type": "code",
   "execution_count": 1,
   "metadata": {},
   "outputs": [],
   "source": [
    "import os\n",
    "import glob\n",
    "from pathlib import Path\n",
    "import pandas as pd\n",
    "import matplotlib.pyplot as plt\n",
    "import yfinance as yf"
   ]
  },
  {
   "attachments": {},
   "cell_type": "markdown",
   "metadata": {},
   "source": [
    "### Get stock data to use as transient data sets"
   ]
  },
  {
   "cell_type": "code",
   "execution_count": 2,
   "metadata": {},
   "outputs": [],
   "source": [
    "tickers = ['GOOG', 'NFLX', 'MSFT', 'LYFT', 'TSLA', 'AMZN', 'AAPL', 'NVDA', 'META', 'AMD']\n",
    "\n",
    "def get_stock_data(ticker):\n",
    "    t = yf.Ticker(ticker)\n",
    "    df = t.history(period='max').reset_index()\n",
    "    df['Ticker'] = ticker\n",
    "    df['Date'] = pd.to_datetime(df['Date']).dt.strftime('%Y-%m-%d')\n",
    "    return df\n",
    "\n",
    "\n",
    "for ticker in tickers:\n",
    "    df = get_stock_data(ticker)\n",
    "    df.to_csv(f'stocks/{ticker}.csv', index=False)"
   ]
  },
  {
   "attachments": {},
   "cell_type": "markdown",
   "metadata": {},
   "source": [
    "### Build sample job streams"
   ]
  },
  {
   "cell_type": "code",
   "execution_count": 16,
   "metadata": {},
   "outputs": [],
   "source": [
    "def apply_factors(df, factor):\n",
    "    columns = ['Open', 'High', 'Low', 'Close']\n",
    "    for column in columns:\n",
    "        df[column] = df[column] * factor\n",
    "    return df\n",
    "\n",
    "def build_scalar_file(files):\n",
    "    df = pd.concat([pd.read_csv(f) for f in files]).reset_index(drop=True)\n",
    "    df = df.loc[df.groupby(['Ticker'])['Close'].idxmax()]\n",
    "    return df\n",
    "\n",
    "# Scale factor is applied to the data so that\n",
    "# each job stream will have unique transient\n",
    "# data\n",
    "names_and_factor = [\n",
    "    ('JobStream1-2022-01-01__211242', 1),\n",
    "    ('JobStream2-2022-02-14__224212', 1.2),\n",
    "    ('JobStream3-2022-01-13__029321', 1.35),\n",
    "    ('JobStream4-2022-05-27__734343', 1.5),\n",
    "]\n",
    "\n",
    "tr_files = sorted(glob.glob('stocks/*.csv'))\n",
    "\n",
    "for name, factor in names_and_factor:\n",
    "\n",
    "    # Build Plots folder\n",
    "    plots_path = os.path.join('sample_jobstreams', name, 'Plots')\n",
    "    if not os.path.isdir(plots_path):\n",
    "        os.makedirs(plots_path)\n",
    "    for i, f in enumerate(tr_files, start=1):\n",
    "        plots_subfolder_path = os.path.join(plots_path, f'Plots_P{i}')\n",
    "        if not os.path.isdir(plots_subfolder_path):\n",
    "            os.makedirs(plots_subfolder_path)\n",
    "        \n",
    "        df = pd.read_csv(f)\n",
    "        df = apply_factors(df, factor)\n",
    "        df.to_csv(os.path.join(plots_subfolder_path, f'Plots_P{i}_data.csv'), index=False)\n",
    "\n",
    "        for column in ['Open', 'High', 'Low', 'Close']:\n",
    "            fig, ax = plt.subplots(nrows=1, ncols=1)\n",
    "            ax.plot(df.index, df[column])\n",
    "            ax.set_title(column)\n",
    "            ax.set_xlabel('Index')\n",
    "            ax.set_ylabel('Price ($)')\n",
    "            fig.savefig(os.path.join(plots_subfolder_path, f'Plots_P{i}_{column}.png'))\n",
    "            plt.close()\n",
    "\n",
    "    # Build Scalar folder\n",
    "    scalar_path = os.path.join('sample_jobstreams', name, 'Scalar', 'Scalar_Base')\n",
    "    if not os.path.isdir(scalar_path):\n",
    "        os.makedirs(scalar_path)\n",
    "    \n",
    "    df_scalar = build_scalar_file(tr_files)\n",
    "    writer = pd.ExcelWriter(os.path.join(scalar_path, 'Scalar_Base.xlsx'), engine='openpyxl')\n",
    "    df_scalar.to_excel(writer, index=False)\n",
    "    writer.close()\n",
    "\n"
   ]
  },
  {
   "cell_type": "code",
   "execution_count": null,
   "metadata": {},
   "outputs": [],
   "source": []
  }
 ],
 "metadata": {
  "kernelspec": {
   "display_name": "myenv",
   "language": "python",
   "name": "python3"
  },
  "language_info": {
   "codemirror_mode": {
    "name": "ipython",
    "version": 3
   },
   "file_extension": ".py",
   "mimetype": "text/x-python",
   "name": "python",
   "nbconvert_exporter": "python",
   "pygments_lexer": "ipython3",
   "version": "3.9.6"
  },
  "orig_nbformat": 4,
  "vscode": {
   "interpreter": {
    "hash": "239145c48355fcd319995f27c8469679b6724ae605f68ecf1b26e7915c616ce8"
   }
  }
 },
 "nbformat": 4,
 "nbformat_minor": 2
}
